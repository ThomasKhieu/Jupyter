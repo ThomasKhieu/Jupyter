{
 "cells": [
  {
   "cell_type": "markdown",
   "metadata": {},
   "source": [
    "This homework is the second part of the homework serie using the .csv which summarizes the contributions received by a selective private liberal arts college in the Midwest. The college has a large endowment and, as all private colleges do, keeps detailed records on alumni donations. Here we analyze the contributions of ﬁve graduating classes (the cohorts who have graduated in 1957, 1967, 1977, 1987, and 1997). The data set consists of n = 1230 living alumni and contains their contributions for the years 2000 – 2004.\n",
    "\n",
    "This time, we will try to draw descriptive statistics regarding the dataset."
   ]
  },
  {
   "cell_type": "code",
   "execution_count": 1,
   "metadata": {},
   "outputs": [],
   "source": [
    "#データ\n",
    "大学基金 <- read.csv(\"宿題.csv\", header=TRUE, sep=\",\")"
   ]
  },
  {
   "cell_type": "code",
   "execution_count": 2,
   "metadata": {},
   "outputs": [
    {
     "data": {
      "text/html": [
       "<table>\n",
       "<thead><tr><th scope=col>Gender</th><th scope=col>Class.Year</th><th scope=col>Marital.Status</th><th scope=col>Major</th><th scope=col>Next.Degree</th><th scope=col>FY04Giving</th><th scope=col>FY03Giving</th><th scope=col>FY02Giving</th><th scope=col>FY01Giving</th><th scope=col>FY00Giving</th><th scope=col>AttendenceEvent</th></tr></thead>\n",
       "<tbody>\n",
       "\t<tr><td>M          </td><td>1957       </td><td>M          </td><td>History    </td><td>LLB        </td><td>2500       </td><td>2500       </td><td>1400       </td><td>12060      </td><td>12000      </td><td>1          </td></tr>\n",
       "\t<tr><td>M          </td><td>1957       </td><td>M          </td><td>Physics    </td><td>MS         </td><td>5000       </td><td>5000       </td><td>5000       </td><td> 5000      </td><td>10000      </td><td>1          </td></tr>\n",
       "\t<tr><td>F          </td><td>1957       </td><td>M          </td><td>Music      </td><td>NONE       </td><td>5000       </td><td>5000       </td><td>5000       </td><td> 5000      </td><td>10000      </td><td>1          </td></tr>\n",
       "\t<tr><td>M          </td><td>1957       </td><td>M          </td><td>History    </td><td>NONE       </td><td>   0       </td><td>5100       </td><td> 200       </td><td>  200      </td><td>    0      </td><td>1          </td></tr>\n",
       "\t<tr><td>M          </td><td>1957       </td><td>M          </td><td>Biology    </td><td>MD         </td><td>1000       </td><td>1000       </td><td>1000       </td><td> 1005      </td><td> 1000      </td><td>1          </td></tr>\n",
       "\t<tr><td>F          </td><td>1957       </td><td>M          </td><td>Mathematics</td><td>NONE       </td><td>   0       </td><td>   0       </td><td>   0       </td><td>    0      </td><td>    0      </td><td>0          </td></tr>\n",
       "</tbody>\n",
       "</table>\n"
      ],
      "text/latex": [
       "\\begin{tabular}{r|lllllllllll}\n",
       " Gender & Class.Year & Marital.Status & Major & Next.Degree & FY04Giving & FY03Giving & FY02Giving & FY01Giving & FY00Giving & AttendenceEvent\\\\\n",
       "\\hline\n",
       "\t M           & 1957        & M           & History     & LLB         & 2500        & 2500        & 1400        & 12060       & 12000       & 1          \\\\\n",
       "\t M           & 1957        & M           & Physics     & MS          & 5000        & 5000        & 5000        &  5000       & 10000       & 1          \\\\\n",
       "\t F           & 1957        & M           & Music       & NONE        & 5000        & 5000        & 5000        &  5000       & 10000       & 1          \\\\\n",
       "\t M           & 1957        & M           & History     & NONE        &    0        & 5100        &  200        &   200       &     0       & 1          \\\\\n",
       "\t M           & 1957        & M           & Biology     & MD          & 1000        & 1000        & 1000        &  1005       &  1000       & 1          \\\\\n",
       "\t F           & 1957        & M           & Mathematics & NONE        &    0        &    0        &    0        &     0       &     0       & 0          \\\\\n",
       "\\end{tabular}\n"
      ],
      "text/markdown": [
       "\n",
       "Gender | Class.Year | Marital.Status | Major | Next.Degree | FY04Giving | FY03Giving | FY02Giving | FY01Giving | FY00Giving | AttendenceEvent | \n",
       "|---|---|---|---|---|---|\n",
       "| M           | 1957        | M           | History     | LLB         | 2500        | 2500        | 1400        | 12060       | 12000       | 1           | \n",
       "| M           | 1957        | M           | Physics     | MS          | 5000        | 5000        | 5000        |  5000       | 10000       | 1           | \n",
       "| F           | 1957        | M           | Music       | NONE        | 5000        | 5000        | 5000        |  5000       | 10000       | 1           | \n",
       "| M           | 1957        | M           | History     | NONE        |    0        | 5100        |  200        |   200       |     0       | 1           | \n",
       "| M           | 1957        | M           | Biology     | MD          | 1000        | 1000        | 1000        |  1005       |  1000       | 1           | \n",
       "| F           | 1957        | M           | Mathematics | NONE        |    0        |    0        |    0        |     0       |     0       | 0           | \n",
       "\n",
       "\n"
      ],
      "text/plain": [
       "  Gender Class.Year Marital.Status Major       Next.Degree FY04Giving\n",
       "1 M      1957       M              History     LLB         2500      \n",
       "2 M      1957       M              Physics     MS          5000      \n",
       "3 F      1957       M              Music       NONE        5000      \n",
       "4 M      1957       M              History     NONE           0      \n",
       "5 M      1957       M              Biology     MD          1000      \n",
       "6 F      1957       M              Mathematics NONE           0      \n",
       "  FY03Giving FY02Giving FY01Giving FY00Giving AttendenceEvent\n",
       "1 2500       1400       12060      12000      1              \n",
       "2 5000       5000        5000      10000      1              \n",
       "3 5000       5000        5000      10000      1              \n",
       "4 5100        200         200          0      1              \n",
       "5 1000       1000        1005       1000      1              \n",
       "6    0          0           0          0      0              "
      ]
     },
     "metadata": {},
     "output_type": "display_data"
    }
   ],
   "source": [
    "head(大学基金)"
   ]
  },
  {
   "cell_type": "markdown",
   "metadata": {},
   "source": [
    "The above functions give us a quick reminder regarding the composition of our dataframe. We need to define variables which may simplify our task."
   ]
  },
  {
   "cell_type": "code",
   "execution_count": 3,
   "metadata": {},
   "outputs": [
    {
     "data": {
      "text/html": [
       "<ol class=list-inline>\n",
       "\t<li>1957</li>\n",
       "\t<li>1967</li>\n",
       "\t<li>1977</li>\n",
       "\t<li>1987</li>\n",
       "\t<li>1997</li>\n",
       "</ol>\n"
      ],
      "text/latex": [
       "\\begin{enumerate*}\n",
       "\\item 1957\n",
       "\\item 1967\n",
       "\\item 1977\n",
       "\\item 1987\n",
       "\\item 1997\n",
       "\\end{enumerate*}\n"
      ],
      "text/markdown": [
       "1. 1957\n",
       "2. 1967\n",
       "3. 1977\n",
       "4. 1987\n",
       "5. 1997\n",
       "\n",
       "\n"
      ],
      "text/plain": [
       "[1] 1957 1967 1977 1987 1997"
      ]
     },
     "metadata": {},
     "output_type": "display_data"
    },
    {
     "name": "stdout",
     "output_type": "stream",
     "text": [
      "We have  5  unique years."
     ]
    }
   ],
   "source": [
    "#変数\n",
    "年 <- 大学基金$Class.Year\n",
    "unique(年)\n",
    "cat(paste('We have ', nlevels(factor(年)), ' unique years.'))"
   ]
  },
  {
   "cell_type": "markdown",
   "metadata": {},
   "source": [
    "We are looking for the total contribution of each graduate for FY00, FY01, ... , FY04. To do so we need to some each FY column for each row. It gives us the following :"
   ]
  },
  {
   "cell_type": "code",
   "execution_count": 4,
   "metadata": {},
   "outputs": [
    {
     "data": {
      "text/plain": [
       "   Min. 1st Qu.  Median    Mean 3rd Qu.    Max. \n",
       "      0       0      75     980     400  171870 "
      ]
     },
     "metadata": {},
     "output_type": "display_data"
    }
   ],
   "source": [
    "#全基金\n",
    "大学基金$学生基金 <- rowSums(大学基金[,c(\"FY00Giving\",\"FY01Giving\",\"FY02Giving\",\"FY03Giving\",\"FY04Giving\")])\n",
    "summary(大学基金$学生基金)"
   ]
  },
  {
   "cell_type": "markdown",
   "metadata": {},
   "source": [
    "Our extreme values are <b>0-171870</b>, with a median value positioned at <b>75</b>, our mean is <b>980</b>. Our quantile are the following : 1st(0), 3rd(400)."
   ]
  },
  {
   "cell_type": "markdown",
   "metadata": {},
   "source": [
    "Now we want the mean for each graduate contribution."
   ]
  },
  {
   "cell_type": "code",
   "execution_count": 5,
   "metadata": {},
   "outputs": [
    {
     "data": {
      "text/plain": [
       "   Min. 1st Qu.  Median    Mean 3rd Qu.    Max. \n",
       "      0       0      15     196      80   34374 "
      ]
     },
     "metadata": {},
     "output_type": "display_data"
    }
   ],
   "source": [
    "#平均学生基金\n",
    "\n",
    "大学基金$平均基金 <- rowMeans (大学基金[,c(\"FY00Giving\",\"FY01Giving\",\"FY02Giving\",\"FY03Giving\",\"FY04Giving\")])\n",
    "summary(大学基金$平均基金)"
   ]
  },
  {
   "cell_type": "markdown",
   "metadata": {},
   "source": [
    "For mean, we have our lowest mean at <b>0</b> and our max mean at <b>34374</b>."
   ]
  },
  {
   "cell_type": "markdown",
   "metadata": {},
   "source": [
    "Now we want the standard deviation for each graduate contribution."
   ]
  },
  {
   "cell_type": "code",
   "execution_count": 6,
   "metadata": {},
   "outputs": [
    {
     "data": {
      "text/plain": [
       "    Min.  1st Qu.   Median     Mean  3rd Qu.     Max. \n",
       "    0.00     0.00    11.18   178.73    44.72 71025.85 "
      ]
     },
     "metadata": {},
     "output_type": "display_data"
    }
   ],
   "source": [
    "#標準偏差学生基金\n",
    "\n",
    "大学基金$標準偏差 <- apply(大学基金[,6:10],1,sd)\n",
    "summary(大学基金$標準偏差)"
   ]
  },
  {
   "cell_type": "markdown",
   "metadata": {},
   "source": [
    "For standard deviation, we have our lowest SD at <b>0</b> and our max SD at <b>71025.85</b>."
   ]
  },
  {
   "cell_type": "markdown",
   "metadata": {},
   "source": [
    "As for percentiles, we have the following :"
   ]
  },
  {
   "cell_type": "code",
   "execution_count": 7,
   "metadata": {},
   "outputs": [
    {
     "name": "stdout",
     "output_type": "stream",
     "text": [
      "      0%      25%      50%      75%     100% \n",
      "     0.0      0.0     75.0    400.0 171870.1 \n"
     ]
    }
   ],
   "source": [
    "#分位数 -> tried quantile$大学基金 <- apply(大学基金[,6:10], 1, quantile, probs=c(.25), na.rm=TRUE) did not work\n",
    "\n",
    "分位数学生基金 <- quantile(大学基金$学生基金)\n",
    "print(分位数学生基金)"
   ]
  },
  {
   "cell_type": "markdown",
   "metadata": {},
   "source": [
    "0% = <b>0</b>, 25% = <b>0</b>, 50% = <b>75.0</b>, 50% = <b>75.0</b>, 75% = <b>400.0</b>, 100% = <b>171870.1</b>"
   ]
  },
  {
   "cell_type": "code",
   "execution_count": 8,
   "metadata": {},
   "outputs": [
    {
     "data": {
      "text/plain": [
       "   Min. 1st Qu.  Median    Mean 3rd Qu.    Max. \n",
       "      0       0      75   34469     400  171870 "
      ]
     },
     "metadata": {},
     "output_type": "display_data"
    }
   ],
   "source": [
    "summary(分位数学生基金)"
   ]
  },
  {
   "cell_type": "markdown",
   "metadata": {},
   "source": [
    "Since I was not sure regarding the instructions, I did the graphs for both each graduate YEAR and each graduate"
   ]
  },
  {
   "cell_type": "code",
   "execution_count": 9,
   "metadata": {},
   "outputs": [],
   "source": [
    "#全基金\n",
    "一組 <- 大学基金[ which(年==\"1957\"),]\n",
    "二組 <- 大学基金[ which(年==\"1967\"),]\n",
    "三組 <- 大学基金 [ which(年==\"1977\"),]\n",
    "四組 <- 大学基金 [ which(年==\"1987\"),]\n",
    "五組 <- 大学基金[ which(年==\"1997\"),]\n",
    "一組金 <- sum(一組$FY00Giving, 一組$FY01Giving, 一組$FY02Giving, 一組$FY03Giving, 一組$FY04Giving)\n",
    "二組金 <- sum(二組$FY00Giving, 二組$FY01Giving, 二組$FY02Giving, 二組$FY03Giving, 二組$FY04Giving)\n",
    "三組金 <- sum(三組$FY00Giving, 三組$FY01Giving, 三組$FY02Giving, 三組$FY03Giving, 三組$FY04Giving)\n",
    "四組金 <- sum(四組$FY00Giving, 四組$FY01Giving, 四組$FY02Giving, 四組$FY03Giving, 四組$FY04Giving)\n",
    "五組金 <- sum(五組$FY00Giving, 五組$FY01Giving, 五組$FY02Giving, 五組$FY03Giving, 五組$FY04Giving)"
   ]
  },
  {
   "cell_type": "code",
   "execution_count": 10,
   "metadata": {},
   "outputs": [
    {
     "data": {
      "image/png": "[encoded data removed]",
      "text/plain": [
       "plot without title"
      ]
     },
     "metadata": {},
     "output_type": "display_data"
    }
   ],
   "source": [
    "#プロット図\n",
    "全金 <- c(一組金, 二組金, 三組金, 四組金, 五組金)\n",
    "plot(y = 全金/1000, x=c('1957', '1967', '1977', '1987', '1997'),  col = \"cyan\", xlab= \"Year\", ylab = 'Total Contribution in K$',type = \"h\", lwd = 20, lend=1)"
   ]
  },
  {
   "cell_type": "markdown",
   "metadata": {},
   "source": [
    "(Already commented in the homework 1) - We can see in the above graph that the oldest classes gave us a largest amount of money compared to the more recent one. It makes sense since they would work for longer and have more opportunities to donate money."
   ]
  },
  {
   "cell_type": "code",
   "execution_count": 11,
   "metadata": {},
   "outputs": [
    {
     "data": {
      "image/png": "[encoded data removed]",
      "text/plain": [
       "Plot with title “Data Distribution of Contribution”"
      ]
     },
     "metadata": {},
     "output_type": "display_data"
    }
   ],
   "source": [
    "boxplot(全金/1000, outline=T, horizontal=F, main=\"Data Distribution of Contribution\", ylab=\"Total Contribution in K$\")"
   ]
  },
  {
   "cell_type": "markdown",
   "metadata": {},
   "source": [
    "In the above graph, we can see there are no outliers (more/less times higher/lower than 3/2 quantile). We can also see that the minimum is <b>below 100k</b>, the lower quartile is near <b>100k</b>, the median value is near <b>200k</b>, the upper quartile is near <b>300k</b>. Finally the maximum is above <b>500k</b>."
   ]
  },
  {
   "cell_type": "markdown",
   "metadata": {},
   "source": [
    "This implies for the company that most contributions of 200kish$ are the norm."
   ]
  },
  {
   "cell_type": "markdown",
   "metadata": {},
   "source": [
    "Now we are analyzing the data for each student contribution :"
   ]
  },
  {
   "cell_type": "code",
   "execution_count": 12,
   "metadata": {},
   "outputs": [
    {
     "data": {
      "image/png": "[encoded data removed]",
      "text/plain": [
       "Plot with title “Data Distribution of Contribution”"
      ]
     },
     "metadata": {},
     "output_type": "display_data"
    }
   ],
   "source": [
    "boxplot(大学基金$学生基金, outline=T, horizontal=T, main=\"Data Distribution of Contribution\", ylim = c(0, 1500), xlab = \"Total Contribution in $\")"
   ]
  },
  {
   "cell_type": "markdown",
   "metadata": {},
   "source": [
    "In the above graph, we can see there are (more/less times higher/lower than 3/2 quantile). We can also see that the minimum is <b>0</b>, the lower quartile is <b>0</b>, the median value is near <b>100</b>, the upper quartile is near <b>400</b>. Finally the maximum excluding outliers is above <b>1000</b>."
   ]
  },
  {
   "cell_type": "code",
   "execution_count": 13,
   "metadata": {},
   "outputs": [
    {
     "name": "stderr",
     "output_type": "stream",
     "text": [
      "Warning message in plot.histogram(r, freq = freq1, col = col, border = border, angle = angle, :\n",
      "“the AREAS in the plot are wrong -- rather use 'freq = FALSE'”"
     ]
    },
    {
     "data": {
      "image/png": "[encoded data removed]",
      "text/plain": [
       "Plot with title “Histogram Of Graduate Contribution”"
      ]
     },
     "metadata": {},
     "output_type": "display_data"
    }
   ],
   "source": [
    "hist(大学基金$学生基金, freq=TRUE, breaks=c(0,100,1000,10000,100000,200000), ylim=c(0, 700), main=\"Histogram Of Graduate Contribution\", xlab=\"Graduate Contribution in $\")"
   ]
  },
  {
   "cell_type": "markdown",
   "metadata": {},
   "source": [
    "The frequency histogram shows us that lot of people do not donate anything, and most people donating, donate less than 50000$, people donating above 50k$ have a total frequency < 50 "
   ]
  },
  {
   "cell_type": "code",
   "execution_count": 14,
   "metadata": {},
   "outputs": [
    {
     "data": {
      "image/png": "[encoded data removed]",
      "text/plain": [
       "Plot with title “Histogram Of Graduate Contribution”"
      ]
     },
     "metadata": {},
     "output_type": "display_data"
    }
   ],
   "source": [
    "hist(大学基金$学生基金, freq=F, breaks=c(0,100,1000,10000,100000,200000), ylim=c(0, 0.006),main=\"Histogram Of Graduate Contribution\", xlab=\"Graduate Contribution in $\")"
   ]
  },
  {
   "cell_type": "markdown",
   "metadata": {},
   "source": [
    "The density hist confirms what we just wrote above and highly emphasizes it."
   ]
  },
  {
   "cell_type": "markdown",
   "metadata": {},
   "source": [
    "From all of this, we can confidently say that for individual donation, for 2000-2004, most people do not donate at all or a small amount. The range between minimum and maximum are extremes with [0:170000] rounded. The median being at <b>75</b> for people donation vs a mean of <b>980</b> shows that this extreme discrepancy in our data affects the statistics. The individual mean in \"mean\" and \"standard deviation\" shows us that for most people their donation overtime (FY00,(...),FY04) does not change very much."
   ]
  }
 ],
 "metadata": {
  "kernelspec": {
   "display_name": "R",
   "language": "R",
   "name": "ir"
  },
  "language_info": {
   "codemirror_mode": "r",
   "file_extension": ".r",
   "mimetype": "text/x-r-source",
   "name": "R",
   "pygments_lexer": "r",
   "version": "3.4.4"
  }
 },
 "nbformat": 4,
 "nbformat_minor": 2
}
